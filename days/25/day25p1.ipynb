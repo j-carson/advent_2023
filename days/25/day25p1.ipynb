{
 "cells": [
  {
   "cell_type": "code",
   "execution_count": 1,
   "id": "0d7d189b-b883-44fd-9acc-21ebbe7bb48f",
   "metadata": {},
   "outputs": [],
   "source": [
    "# solves my test input, but not a general purpose solution\n",
    "from collections import Counter\n",
    "from itertools import count\n",
    "from pathlib import Path\n",
    "import networkx as nx\n",
    "import matplotlib.pyplot as plt\n",
    "# so you can zoom into the graph and read the labels\n",
    "%matplotlib ipympl"
   ]
  },
  {
   "cell_type": "code",
   "execution_count": 2,
   "id": "945d3b8d-baf8-4f9c-b7fa-85b7687208f7",
   "metadata": {},
   "outputs": [],
   "source": [
    "def parse(line):\n",
    "    key, valstring = line.split(\":\")\n",
    "    vals = valstring.split()\n",
    "    return key, vals\n",
    "\n",
    "def make_graph(input_data):\n",
    "    edges = set()\n",
    "    nodes = set()\n",
    "    \n",
    "    for line in input_data.splitlines():\n",
    "        key, vals = parse(line)\n",
    "        nodes.add(key)\n",
    "        for val in vals:\n",
    "            edges.add((key,val))\n",
    "            nodes.add(val)\n",
    "    \n",
    "    graph = nx.Graph(edges)\n",
    "    return graph, nodes, edges\n",
    "    \n",
    "            "
   ]
  },
  {
   "cell_type": "code",
   "execution_count": 3,
   "id": "76de044a-f471-4c73-9149-ae4624318449",
   "metadata": {},
   "outputs": [],
   "source": [
    "data = Path(\"input.txt\").read_text().strip()\n",
    "graph, nodes, edges = make_graph(data)"
   ]
  },
  {
   "cell_type": "code",
   "execution_count": null,
   "id": "2b74a3dd-8d56-4039-bfd6-e45e6eaaf448",
   "metadata": {},
   "outputs": [],
   "source": [
    "plt.figure()\n",
    "nx.draw(graph, with_labels=True)"
   ]
  },
  {
   "cell_type": "code",
   "execution_count": 5,
   "id": "e70303db-eac7-4f46-afc0-48616995aab4",
   "metadata": {},
   "outputs": [],
   "source": [
    "edges_to_remove = (('kfr','vkp'),('qpp','vnm'),('bff','rhk'))\n",
    "for edge in edges_to_remove:\n",
    "    graph.remove_edge(*edge)\n",
    "    "
   ]
  },
  {
   "cell_type": "code",
   "execution_count": null,
   "id": "da302a4e-f996-45da-b70d-8b9189acd80a",
   "metadata": {},
   "outputs": [],
   "source": [
    "plt.figure()\n",
    "nx.draw(graph, with_labels=True)"
   ]
  },
  {
   "cell_type": "code",
   "execution_count": 7,
   "id": "be6d3fe1-cac7-497d-b69e-462f56aebc8f",
   "metadata": {},
   "outputs": [
    {
     "data": {
      "text/plain": [
       "3475"
      ]
     },
     "execution_count": 7,
     "metadata": {},
     "output_type": "execute_result"
    }
   ],
   "source": [
    "len(edges)"
   ]
  },
  {
   "cell_type": "code",
   "execution_count": 8,
   "id": "1659c169-8512-486c-8868-76544afaa718",
   "metadata": {},
   "outputs": [],
   "source": [
    "# Wasn't sure what order the edge was created in so try both\n",
    "for edge in edges_to_remove:\n",
    "    x,y = edge\n",
    "    edges.discard((x,y))\n",
    "    edges.discard((y,x))"
   ]
  },
  {
   "cell_type": "code",
   "execution_count": 9,
   "id": "af5e158a-b587-45b2-be0c-8e5cd8d63412",
   "metadata": {},
   "outputs": [
    {
     "data": {
      "text/plain": [
       "3472"
      ]
     },
     "execution_count": 9,
     "metadata": {},
     "output_type": "execute_result"
    }
   ],
   "source": [
    "len(edges)"
   ]
  },
  {
   "cell_type": "code",
   "execution_count": 10,
   "id": "0f98c94d-5eb5-4a7e-b72a-24666ab60e14",
   "metadata": {},
   "outputs": [],
   "source": [
    "colors = dict(zip(nodes,count()))"
   ]
  },
  {
   "cell_type": "code",
   "execution_count": 11,
   "id": "992c89b2-61a8-47d2-8d22-4bb353e9336e",
   "metadata": {},
   "outputs": [],
   "source": [
    "for _ in range(10):\n",
    "    for edge in edges:\n",
    "        x,y = edge\n",
    "        new_color = min(colors[x],colors[y])\n",
    "        colors[x] = new_color\n",
    "        colors[y] = new_color"
   ]
  },
  {
   "cell_type": "code",
   "execution_count": 12,
   "id": "7b42a1b6-928b-4b78-8c4d-bf4968b56913",
   "metadata": {},
   "outputs": [
    {
     "data": {
      "text/plain": [
       "Counter({0: 781, 1: 771})"
      ]
     },
     "execution_count": 12,
     "metadata": {},
     "output_type": "execute_result"
    }
   ],
   "source": [
    "cnt = Counter(colors.values())\n",
    "cnt"
   ]
  },
  {
   "cell_type": "code",
   "execution_count": 13,
   "id": "86d496f3-c884-4cc6-82b1-8a5450670554",
   "metadata": {},
   "outputs": [
    {
     "data": {
      "text/plain": [
       "602151"
      ]
     },
     "execution_count": 13,
     "metadata": {},
     "output_type": "execute_result"
    }
   ],
   "source": [
    "781 * 771"
   ]
  },
  {
   "cell_type": "code",
   "execution_count": null,
   "id": "8a4a5a2a-0d8a-4456-8a8e-ef85edb55171",
   "metadata": {},
   "outputs": [],
   "source": []
  }
 ],
 "metadata": {
  "kernelspec": {
   "display_name": "Python 3 (ipykernel)",
   "language": "python",
   "name": "python3"
  },
  "language_info": {
   "codemirror_mode": {
    "name": "ipython",
    "version": 3
   },
   "file_extension": ".py",
   "mimetype": "text/x-python",
   "name": "python",
   "nbconvert_exporter": "python",
   "pygments_lexer": "ipython3",
   "version": "3.11.6"
  }
 },
 "nbformat": 4,
 "nbformat_minor": 5
}
